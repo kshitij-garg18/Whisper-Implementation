{
 "cells": [
  {
   "cell_type": "code",
   "execution_count": 1,
   "id": "864ecd40",
   "metadata": {},
   "outputs": [],
   "source": [
    "import os\n",
    "import whisper\n",
    "import numpy as np\n",
    "import jiwer"
   ]
  },
  {
   "cell_type": "code",
   "execution_count": 34,
   "id": "42da9fcc",
   "metadata": {},
   "outputs": [
    {
     "name": "stdout",
     "output_type": "stream",
     "text": [
      " شکریہ راجیف جی اور میں میں دو آجیس ویشے کو لے کر آئے بھارٹی مہلا ہیں ماتریت و ریت وہ اور پینلٹی دیزیٹل مارکیٹین میں مبیہ کی دگریوالی نیلا کاشی\n"
     ]
    }
   ],
   "source": [
    "model = whisper.load_model(\"base\")\n",
    "result = model.transcribe(\"./test_data/Audio/02-17489-01.mp3\")\n",
    "print(result[\"text\"])"
   ]
  },
  {
   "cell_type": "code",
   "execution_count": 36,
   "id": "7e641af4",
   "metadata": {
    "scrolled": true
   },
   "outputs": [
    {
     "name": "stdout",
     "output_type": "stream",
     "text": [
      " thank you Rajivts and I in this visa I have brought on India move Mahitribu, and paen sheke in digital marketing\n"
     ]
    }
   ],
   "source": [
    "result = model.transcribe(\"./test_data/Audio/02-17489-01.mp3\", language=\"hi\", task=\"translate\")\n",
    "print(result[\"text\"])"
   ]
  },
  {
   "cell_type": "code",
   "execution_count": 2,
   "id": "85d802ad",
   "metadata": {},
   "outputs": [],
   "source": [
    "def read_result_file(file_path):\n",
    "    audio_ids = []\n",
    "    transcriptions = []\n",
    "    with open(file_path, 'r', encoding='utf-8') as file:\n",
    "        for line in file:\n",
    "            audio_id, transcription = line.strip().split(' ', 1)\n",
    "            audio_ids.append(audio_id)\n",
    "            transcriptions.append(transcription)\n",
    "    return audio_ids, transcriptions"
   ]
  },
  {
   "cell_type": "code",
   "execution_count": 3,
   "id": "1cb7fb38",
   "metadata": {},
   "outputs": [],
   "source": [
    "def read_audio_id_file(file_path):\n",
    "    audio_ids = []\n",
    "    file_names = []\n",
    "    with open(file_path, 'r', encoding='utf-8') as file:\n",
    "        for line in file:\n",
    "            audio_id, file_name = line.strip().split('\\t')\n",
    "            audio_ids.append(audio_id)\n",
    "            file_names.append(file_name)\n",
    "    return audio_ids, file_names"
   ]
  },
  {
   "cell_type": "code",
   "execution_count": 4,
   "id": "5fb5843a",
   "metadata": {},
   "outputs": [],
   "source": [
    "audio_id_file_path = \"./test_data/mp3.scp\"\n",
    "\n",
    "\n",
    "audio_files_dir = \"./test_data/Audio\"\n",
    "\n",
    "result_file_path = \"./test_data/text\""
   ]
  },
  {
   "cell_type": "code",
   "execution_count": 5,
   "id": "1b1c5dfc",
   "metadata": {},
   "outputs": [],
   "source": [
    "audio_ids, file_names = read_audio_id_file(audio_id_file_path)"
   ]
  },
  {
   "cell_type": "code",
   "execution_count": 39,
   "id": "2e857e55",
   "metadata": {},
   "outputs": [
    {
     "data": {
      "text/plain": [
       "'02-17489-01'"
      ]
     },
     "execution_count": 39,
     "metadata": {},
     "output_type": "execute_result"
    }
   ],
   "source": [
    "audio_ids[0]"
   ]
  },
  {
   "cell_type": "code",
   "execution_count": 40,
   "id": "cb10a72d",
   "metadata": {},
   "outputs": [
    {
     "data": {
      "text/plain": [
       "'./Audio/02-17489-01.mp3'"
      ]
     },
     "execution_count": 40,
     "metadata": {},
     "output_type": "execute_result"
    }
   ],
   "source": [
    "file_names[0]"
   ]
  },
  {
   "cell_type": "code",
   "execution_count": 7,
   "id": "d73be28d",
   "metadata": {},
   "outputs": [],
   "source": [
    "result_audio_ids, transcriptions = read_result_file(result_file_path)"
   ]
  },
  {
   "cell_type": "code",
   "execution_count": 8,
   "id": "30cc80e9",
   "metadata": {},
   "outputs": [],
   "source": [
    "matched_audio_ids = set(audio_ids) & set(result_audio_ids)"
   ]
  },
  {
   "cell_type": "code",
   "execution_count": 43,
   "id": "3f7a6cd8",
   "metadata": {},
   "outputs": [
    {
     "data": {
      "text/plain": [
       "'वहीं राहुल कुमार मुकेश कुमार अरुण कुमार राजा कुमार अनुराग कुमार सनी कुमार रहीश कुमार मनीष कुमार सहित दर्जनों कार्यकर्ता भी शामिल थे धन्यवाद दिलीप पांडे जमुई अघहारा से बिहार मोबइल वाणी न्यूज़ एक्सप्रेस से'"
      ]
     },
     "execution_count": 43,
     "metadata": {},
     "output_type": "execute_result"
    }
   ],
   "source": [
    "transcriptions[0]"
   ]
  },
  {
   "cell_type": "code",
   "execution_count": 44,
   "id": "413a4948",
   "metadata": {},
   "outputs": [
    {
     "data": {
      "text/plain": [
       "'युवा की अहम् जिम्मेदारी है इसलिए बहुत समय या पैसे खर्च करने की ज़रुरत नहीं है  दिन'"
      ]
     },
     "execution_count": 44,
     "metadata": {},
     "output_type": "execute_result"
    }
   ],
   "source": [
    "transcriptions[1]"
   ]
  },
  {
   "cell_type": "code",
   "execution_count": 10,
   "id": "b5d45c3e",
   "metadata": {},
   "outputs": [],
   "source": [
    "model = whisper.load_model(\"base\")"
   ]
  },
  {
   "cell_type": "code",
   "execution_count": 14,
   "id": "5e9d0393",
   "metadata": {},
   "outputs": [
    {
     "name": "stdout",
     "output_type": "stream",
     "text": [
      "['__builtins__', '__cached__', '__doc__', '__file__', '__loader__', '__name__', '__package__', '__path__', '__spec__']\n"
     ]
    }
   ],
   "source": [
    "import asr_evaluation \n",
    "\n",
    "print(dir(asr_evaluation))"
   ]
  },
  {
   "cell_type": "code",
   "execution_count": 22,
   "id": "b9addb85",
   "metadata": {},
   "outputs": [],
   "source": [
    "from jiwer import wer"
   ]
  },
  {
   "cell_type": "code",
   "execution_count": 16,
   "id": "2a04ca42",
   "metadata": {},
   "outputs": [],
   "source": [
    "total_wer = 0"
   ]
  },
  {
   "cell_type": "code",
   "execution_count": 26,
   "id": "2c93d700",
   "metadata": {},
   "outputs": [
    {
     "name": "stdout",
     "output_type": "stream",
     "text": [
      "Audio ID: 02-14175-01 - WER: 1.00\n",
      "Audio ID: 01-10095-03 - WER: 1.00\n",
      "Audio ID: 01-07199-02 - WER: 1.68\n",
      "Audio ID: 01-10232-01 - WER: 1.28\n",
      "Audio ID: 01-11533-01 - WER: 1.72\n",
      "Audio ID: 01-02717-01 - WER: 1.00\n",
      "Audio ID: 01-06755-01 - WER: 1.00\n",
      "Audio ID: 02-17467-01 - WER: 1.06\n",
      "Audio ID: 02-13769-02 - WER: 1.14\n",
      "Audio ID: 02-15146-01 - WER: 1.00\n",
      "Audio ID: 13-00238-02 - WER: 1.03\n",
      "Audio ID: 01-06866-03 - WER: 1.00\n",
      "Audio ID: 01-01074-02 - WER: 1.00\n",
      "Audio ID: 01-11424-02 - WER: 1.00\n",
      "Audio ID: 01-02406-01 - WER: 1.00\n",
      "Audio ID: 02-15655-01 - WER: 1.06\n",
      "Audio ID: 02-12474-02 - WER: 1.43\n",
      "Audio ID: 01-07662-03 - WER: 1.17\n",
      "Audio ID: 01-04104-03 - WER: 1.00\n",
      "Audio ID: 01-03747-03 - WER: 1.00\n",
      "Audio ID: 01-02334-02 - WER: 1.00\n",
      "Audio ID: 01-03989-03 - WER: 1.00\n",
      "Audio ID: 01-10863-01 - WER: 1.00\n",
      "Audio ID: 02-16027-01 - WER: 1.00\n",
      "Audio ID: 01-09350-01 - WER: 1.00\n",
      "Audio ID: 02-19443-01 - WER: 1.00\n",
      "Audio ID: 02-12299-02 - WER: 1.40\n",
      "Audio ID: 01-04398-02 - WER: 1.29\n",
      "Audio ID: 02-16054-01 - WER: 1.10\n",
      "Audio ID: 01-08310-03 - WER: 1.00\n",
      "Audio ID: 01-12002-02 - WER: 1.00\n",
      "Audio ID: 02-18111-01 - WER: 1.00\n",
      "Audio ID: 02-12779-01 - WER: 1.00\n",
      "Audio ID: 01-04095-02 - WER: 1.00\n",
      "Audio ID: 01-00666-01 - WER: 1.88\n",
      "Audio ID: 02-15015-01 - WER: 1.00\n",
      "Audio ID: 01-10385-01 - WER: 1.00\n",
      "Audio ID: 01-04407-01 - WER: 1.00\n",
      "Audio ID: 01-10891-03 - WER: 1.00\n",
      "Audio ID: 02-16610-01 - WER: 0.93\n",
      "Audio ID: 02-19130-01 - WER: 1.03\n",
      "Audio ID: 01-01568-01 - WER: 1.09\n",
      "Audio ID: 01-03944-02 - WER: 1.08\n",
      "Audio ID: 01-01738-02 - WER: 1.00\n",
      "Audio ID: 01-08679-03 - WER: 2.12\n",
      "Audio ID: 01-03535-01 - WER: 1.00\n",
      "Audio ID: 02-12926-02 - WER: 1.00\n",
      "Audio ID: 01-06499-01 - WER: 1.29\n",
      "Audio ID: 01-00305-02 - WER: 1.00\n",
      "Audio ID: 02-12536-02 - WER: 1.14\n",
      "Audio ID: 01-05852-01 - WER: 1.00\n",
      "Audio ID: 02-13826-01 - WER: 3.50\n",
      "Audio ID: 02-16097-01 - WER: 1.00\n",
      "Audio ID: 01-02834-03 - WER: 1.00\n",
      "Audio ID: 01-09868-01 - WER: 1.00\n",
      "Audio ID: 01-03685-02 - WER: 1.00\n",
      "Audio ID: 01-05501-03 - WER: 1.00\n",
      "Audio ID: 01-00871-02 - WER: 1.17\n",
      "Audio ID: 01-10237-02 - WER: 1.31\n",
      "Audio ID: 01-00129-02 - WER: 1.04\n",
      "Audio ID: 01-01423-01 - WER: 1.00\n",
      "Audio ID: 01-08656-03 - WER: 1.00\n",
      "Audio ID: 01-05902-02 - WER: 1.00\n",
      "Audio ID: 01-06120-02 - WER: 1.00\n",
      "Audio ID: 01-08680-03 - WER: 1.00\n",
      "Audio ID: 01-00159-02 - WER: 1.00\n",
      "Audio ID: 01-03048-01 - WER: 1.00\n",
      "Audio ID: 01-12225-02 - WER: 1.00\n",
      "Audio ID: 02-12354-02 - WER: 1.00\n",
      "Audio ID: 02-12667-02 - WER: 1.09\n",
      "Audio ID: 13-00608-02 - WER: 1.14\n",
      "Audio ID: 01-03176-02 - WER: 1.39\n",
      "Audio ID: 01-04465-03 - WER: 1.00\n",
      "Audio ID: 01-01534-01 - WER: 1.00\n",
      "Audio ID: 02-12399-02 - WER: 1.07\n",
      "Audio ID: 01-00760-03 - WER: 1.00\n",
      "Audio ID: 02-12363-02 - WER: 3.71\n",
      "Audio ID: 02-14974-01 - WER: 1.33\n",
      "Audio ID: 01-06170-02 - WER: 1.00\n",
      "Audio ID: 02-13913-01 - WER: 1.00\n",
      "Audio ID: 02-19288-01 - WER: 1.11\n",
      "Audio ID: 01-00576-01 - WER: 0.93\n",
      "Audio ID: 01-05514-03 - WER: 1.27\n",
      "Audio ID: 01-10747-03 - WER: 1.73\n",
      "Audio ID: 02-16919-01 - WER: 1.00\n",
      "Audio ID: 02-12479-02 - WER: 1.07\n",
      "Audio ID: 02-17935-01 - WER: 2.00\n",
      "Audio ID: 01-04318-01 - WER: 1.00\n",
      "Audio ID: 01-08374-03 - WER: 1.00\n",
      "Audio ID: 01-05972-01 - WER: 1.17\n",
      "Audio ID: 13-00631-03 - WER: 1.00\n",
      "Audio ID: 01-00313-03 - WER: 1.00\n",
      "Audio ID: 01-08615-02 - WER: 1.00\n",
      "Audio ID: 01-01025-03 - WER: 1.00\n",
      "Audio ID: 02-12750-02 - WER: 1.25\n",
      "Audio ID: 02-20467-01 - WER: 1.15\n",
      "Audio ID: 02-16456-01 - WER: 1.00\n",
      "Audio ID: 02-14188-01 - WER: 1.07\n",
      "Audio ID: 02-16574-01 - WER: 1.00\n",
      "Audio ID: 01-00142-01 - WER: 1.00\n",
      "Audio ID: 01-06564-03 - WER: 1.03\n",
      "Audio ID: 01-05945-02 - WER: 1.00\n",
      "Audio ID: 01-02549-01 - WER: 1.18\n",
      "Audio ID: 01-01783-02 - WER: 1.00\n",
      "Audio ID: 01-10827-03 - WER: 1.00\n",
      "Audio ID: 13-00649-03 - WER: 1.00\n",
      "Audio ID: 01-04121-03 - WER: 1.00\n",
      "Audio ID: 01-07686-01 - WER: 1.00\n",
      "Audio ID: 01-07432-03 - WER: 1.00\n",
      "Audio ID: 02-14024-01 - WER: 1.03\n",
      "Audio ID: 01-03519-03 - WER: 1.29\n",
      "Audio ID: 01-04510-02 - WER: 1.15\n",
      "Audio ID: 01-08140-01 - WER: 1.00\n",
      "Audio ID: 01-03448-02 - WER: 1.00\n",
      "Audio ID: 01-11183-02 - WER: 1.00\n",
      "Audio ID: 01-06562-02 - WER: 1.45\n",
      "Audio ID: 01-07665-01 - WER: 1.04\n",
      "Audio ID: 01-07065-03 - WER: 1.27\n",
      "Audio ID: 01-08132-03 - WER: 1.00\n",
      "Audio ID: 01-08047-01 - WER: 1.00\n",
      "Audio ID: 01-07445-02 - WER: 1.38\n",
      "Audio ID: 01-01003-01 - WER: 1.00\n",
      "Audio ID: 01-06294-02 - WER: 1.00\n",
      "Audio ID: 01-04169-01 - WER: 1.00\n",
      "Audio ID: 01-06852-03 - WER: 1.18\n",
      "Audio ID: 01-09229-01 - WER: 1.16\n",
      "Audio ID: 01-07252-02 - WER: 1.00\n",
      "Audio ID: 01-01022-03 - WER: 1.09\n",
      "Audio ID: 01-02346-01 - WER: 1.00\n",
      "Audio ID: 01-04991-01 - WER: 1.00\n",
      "Audio ID: 01-06926-01 - WER: 1.00\n",
      "Audio ID: 02-13557-02 - WER: 1.00\n",
      "Audio ID: 02-13995-01 - WER: 1.08\n",
      "Audio ID: 01-00639-03 - WER: 1.00\n",
      "Audio ID: 02-17496-01 - WER: 1.09\n",
      "Audio ID: 02-16538-01 - WER: 1.00\n",
      "Audio ID: 01-08245-03 - WER: 1.00\n",
      "Audio ID: 02-18066-01 - WER: 1.00\n",
      "Audio ID: 02-12441-02 - WER: 1.14\n",
      "Audio ID: 02-20550-01 - WER: 1.00\n",
      "Audio ID: 01-03209-03 - WER: 1.04\n",
      "Audio ID: 01-06421-03 - WER: 1.00\n",
      "Audio ID: 01-07355-02 - WER: 1.00\n",
      "Audio ID: 01-02291-03 - WER: 1.00\n",
      "Audio ID: 01-07594-02 - WER: 1.00\n",
      "Audio ID: 13-00302-03 - WER: 1.15\n",
      "Audio ID: 01-09940-02 - WER: 1.00\n",
      "Audio ID: 01-06532-03 - WER: 1.00\n",
      "Audio ID: 01-11769-01 - WER: 1.00\n",
      "Audio ID: 02-12778-01 - WER: 1.14\n",
      "Audio ID: 01-07356-02 - WER: 4.38\n",
      "Audio ID: 02-15237-01 - WER: 1.00\n",
      "Audio ID: 01-00173-03 - WER: 1.20\n",
      "Audio ID: 01-04514-02 - WER: 1.00\n",
      "Audio ID: 01-09545-02 - WER: 1.03\n",
      "Audio ID: 02-12609-02 - WER: 1.00\n",
      "Audio ID: 02-22310-01 - WER: 1.00\n",
      "Audio ID: 01-10641-03 - WER: 1.10\n",
      "Audio ID: 01-06101-01 - WER: 0.95\n",
      "Audio ID: 02-12258-02 - WER: 1.00\n",
      "Audio ID: 02-18860-01 - WER: 1.11\n",
      "Audio ID: 02-15827-01 - WER: 1.00\n",
      "Audio ID: 01-02685-01 - WER: 1.00\n",
      "Audio ID: 02-13378-02 - WER: 1.00\n",
      "Audio ID: 01-04084-02 - WER: 1.00\n",
      "Audio ID: 01-04203-01 - WER: 1.15\n",
      "Audio ID: 02-20174-01 - WER: 1.69\n",
      "Audio ID: 02-20406-01 - WER: 1.00\n",
      "Audio ID: 01-04510-03 - WER: 1.00\n",
      "Audio ID: 01-06794-03 - WER: 1.23\n",
      "Audio ID: 01-10416-01 - WER: 1.00\n",
      "Audio ID: 01-03682-02 - WER: 1.10\n",
      "Audio ID: 01-10120-03 - WER: 1.18\n",
      "Audio ID: 02-12449-02 - WER: 1.11\n",
      "Audio ID: 02-13513-01 - WER: 0.95\n",
      "Audio ID: 02-13069-01 - WER: 1.00\n",
      "Audio ID: 01-01252-02 - WER: 1.00\n",
      "Audio ID: 01-10667-03 - WER: 1.00\n",
      "Audio ID: 01-04225-02 - WER: 1.00\n",
      "Audio ID: 02-17081-01 - WER: 1.00\n",
      "Audio ID: 13-00293-05 - WER: 1.00\n",
      "Audio ID: 01-06401-03 - WER: 1.00\n",
      "Audio ID: 01-08420-03 - WER: 1.00\n"
     ]
    },
    {
     "ename": "KeyboardInterrupt",
     "evalue": "",
     "output_type": "error",
     "traceback": [
      "\u001b[1;31m---------------------------------------------------------------------------\u001b[0m",
      "\u001b[1;31mKeyboardInterrupt\u001b[0m                         Traceback (most recent call last)",
      "Cell \u001b[1;32mIn[26], line 10\u001b[0m\n\u001b[0;32m      7\u001b[0m corrected_file_path \u001b[38;5;241m=\u001b[39m corrected_file_path\u001b[38;5;241m.\u001b[39mreplace(\u001b[38;5;124m\"\u001b[39m\u001b[38;5;124m/Audio/\u001b[39m\u001b[38;5;124m\"\u001b[39m, \u001b[38;5;124m\"\u001b[39m\u001b[38;5;124m/\u001b[39m\u001b[38;5;124m\"\u001b[39m)\n\u001b[0;32m      9\u001b[0m \u001b[38;5;66;03m# Transcribe audio file\u001b[39;00m\n\u001b[1;32m---> 10\u001b[0m result \u001b[38;5;241m=\u001b[39m \u001b[43mmodel\u001b[49m\u001b[38;5;241;43m.\u001b[39;49m\u001b[43mtranscribe\u001b[49m\u001b[43m(\u001b[49m\u001b[43mcorrected_file_path\u001b[49m\u001b[43m)\u001b[49m\n\u001b[0;32m     11\u001b[0m transcription \u001b[38;5;241m=\u001b[39m result[\u001b[38;5;124m\"\u001b[39m\u001b[38;5;124mtext\u001b[39m\u001b[38;5;124m\"\u001b[39m]\n\u001b[0;32m     13\u001b[0m \u001b[38;5;66;03m# Get expected transcription\u001b[39;00m\n",
      "File \u001b[1;32m~\\AppData\\Local\\Programs\\Python\\Python310\\lib\\site-packages\\whisper\\transcribe.py:240\u001b[0m, in \u001b[0;36mtranscribe\u001b[1;34m(model, audio, verbose, temperature, compression_ratio_threshold, logprob_threshold, no_speech_threshold, condition_on_previous_text, initial_prompt, word_timestamps, prepend_punctuations, append_punctuations, **decode_options)\u001b[0m\n\u001b[0;32m    237\u001b[0m mel_segment \u001b[38;5;241m=\u001b[39m pad_or_trim(mel_segment, N_FRAMES)\u001b[38;5;241m.\u001b[39mto(model\u001b[38;5;241m.\u001b[39mdevice)\u001b[38;5;241m.\u001b[39mto(dtype)\n\u001b[0;32m    239\u001b[0m decode_options[\u001b[38;5;124m\"\u001b[39m\u001b[38;5;124mprompt\u001b[39m\u001b[38;5;124m\"\u001b[39m] \u001b[38;5;241m=\u001b[39m all_tokens[prompt_reset_since:]\n\u001b[1;32m--> 240\u001b[0m result: DecodingResult \u001b[38;5;241m=\u001b[39m \u001b[43mdecode_with_fallback\u001b[49m\u001b[43m(\u001b[49m\u001b[43mmel_segment\u001b[49m\u001b[43m)\u001b[49m\n\u001b[0;32m    241\u001b[0m tokens \u001b[38;5;241m=\u001b[39m torch\u001b[38;5;241m.\u001b[39mtensor(result\u001b[38;5;241m.\u001b[39mtokens)\n\u001b[0;32m    243\u001b[0m \u001b[38;5;28;01mif\u001b[39;00m no_speech_threshold \u001b[38;5;129;01mis\u001b[39;00m \u001b[38;5;129;01mnot\u001b[39;00m \u001b[38;5;28;01mNone\u001b[39;00m:\n\u001b[0;32m    244\u001b[0m     \u001b[38;5;66;03m# no voice activity check\u001b[39;00m\n",
      "File \u001b[1;32m~\\AppData\\Local\\Programs\\Python\\Python310\\lib\\site-packages\\whisper\\transcribe.py:170\u001b[0m, in \u001b[0;36mtranscribe.<locals>.decode_with_fallback\u001b[1;34m(segment)\u001b[0m\n\u001b[0;32m    167\u001b[0m     kwargs\u001b[38;5;241m.\u001b[39mpop(\u001b[38;5;124m\"\u001b[39m\u001b[38;5;124mbest_of\u001b[39m\u001b[38;5;124m\"\u001b[39m, \u001b[38;5;28;01mNone\u001b[39;00m)\n\u001b[0;32m    169\u001b[0m options \u001b[38;5;241m=\u001b[39m DecodingOptions(\u001b[38;5;241m*\u001b[39m\u001b[38;5;241m*\u001b[39mkwargs, temperature\u001b[38;5;241m=\u001b[39mt)\n\u001b[1;32m--> 170\u001b[0m decode_result \u001b[38;5;241m=\u001b[39m \u001b[43mmodel\u001b[49m\u001b[38;5;241;43m.\u001b[39;49m\u001b[43mdecode\u001b[49m\u001b[43m(\u001b[49m\u001b[43msegment\u001b[49m\u001b[43m,\u001b[49m\u001b[43m \u001b[49m\u001b[43moptions\u001b[49m\u001b[43m)\u001b[49m\n\u001b[0;32m    172\u001b[0m needs_fallback \u001b[38;5;241m=\u001b[39m \u001b[38;5;28;01mFalse\u001b[39;00m\n\u001b[0;32m    173\u001b[0m \u001b[38;5;28;01mif\u001b[39;00m (\n\u001b[0;32m    174\u001b[0m     compression_ratio_threshold \u001b[38;5;129;01mis\u001b[39;00m \u001b[38;5;129;01mnot\u001b[39;00m \u001b[38;5;28;01mNone\u001b[39;00m\n\u001b[0;32m    175\u001b[0m     \u001b[38;5;129;01mand\u001b[39;00m decode_result\u001b[38;5;241m.\u001b[39mcompression_ratio \u001b[38;5;241m>\u001b[39m compression_ratio_threshold\n\u001b[0;32m    176\u001b[0m ):\n",
      "File \u001b[1;32m~\\AppData\\Local\\Programs\\Python\\Python310\\lib\\site-packages\\torch\\utils\\_contextlib.py:115\u001b[0m, in \u001b[0;36mcontext_decorator.<locals>.decorate_context\u001b[1;34m(*args, **kwargs)\u001b[0m\n\u001b[0;32m    112\u001b[0m \u001b[38;5;129m@functools\u001b[39m\u001b[38;5;241m.\u001b[39mwraps(func)\n\u001b[0;32m    113\u001b[0m \u001b[38;5;28;01mdef\u001b[39;00m \u001b[38;5;21mdecorate_context\u001b[39m(\u001b[38;5;241m*\u001b[39margs, \u001b[38;5;241m*\u001b[39m\u001b[38;5;241m*\u001b[39mkwargs):\n\u001b[0;32m    114\u001b[0m     \u001b[38;5;28;01mwith\u001b[39;00m ctx_factory():\n\u001b[1;32m--> 115\u001b[0m         \u001b[38;5;28;01mreturn\u001b[39;00m func(\u001b[38;5;241m*\u001b[39margs, \u001b[38;5;241m*\u001b[39m\u001b[38;5;241m*\u001b[39mkwargs)\n",
      "File \u001b[1;32m~\\AppData\\Local\\Programs\\Python\\Python310\\lib\\site-packages\\whisper\\decoding.py:824\u001b[0m, in \u001b[0;36mdecode\u001b[1;34m(model, mel, options, **kwargs)\u001b[0m\n\u001b[0;32m    821\u001b[0m \u001b[38;5;28;01mif\u001b[39;00m kwargs:\n\u001b[0;32m    822\u001b[0m     options \u001b[38;5;241m=\u001b[39m replace(options, \u001b[38;5;241m*\u001b[39m\u001b[38;5;241m*\u001b[39mkwargs)\n\u001b[1;32m--> 824\u001b[0m result \u001b[38;5;241m=\u001b[39m \u001b[43mDecodingTask\u001b[49m\u001b[43m(\u001b[49m\u001b[43mmodel\u001b[49m\u001b[43m,\u001b[49m\u001b[43m \u001b[49m\u001b[43moptions\u001b[49m\u001b[43m)\u001b[49m\u001b[38;5;241;43m.\u001b[39;49m\u001b[43mrun\u001b[49m\u001b[43m(\u001b[49m\u001b[43mmel\u001b[49m\u001b[43m)\u001b[49m\n\u001b[0;32m    826\u001b[0m \u001b[38;5;28;01mreturn\u001b[39;00m result[\u001b[38;5;241m0\u001b[39m] \u001b[38;5;28;01mif\u001b[39;00m single \u001b[38;5;28;01melse\u001b[39;00m result\n",
      "File \u001b[1;32m~\\AppData\\Local\\Programs\\Python\\Python310\\lib\\site-packages\\torch\\utils\\_contextlib.py:115\u001b[0m, in \u001b[0;36mcontext_decorator.<locals>.decorate_context\u001b[1;34m(*args, **kwargs)\u001b[0m\n\u001b[0;32m    112\u001b[0m \u001b[38;5;129m@functools\u001b[39m\u001b[38;5;241m.\u001b[39mwraps(func)\n\u001b[0;32m    113\u001b[0m \u001b[38;5;28;01mdef\u001b[39;00m \u001b[38;5;21mdecorate_context\u001b[39m(\u001b[38;5;241m*\u001b[39margs, \u001b[38;5;241m*\u001b[39m\u001b[38;5;241m*\u001b[39mkwargs):\n\u001b[0;32m    114\u001b[0m     \u001b[38;5;28;01mwith\u001b[39;00m ctx_factory():\n\u001b[1;32m--> 115\u001b[0m         \u001b[38;5;28;01mreturn\u001b[39;00m func(\u001b[38;5;241m*\u001b[39margs, \u001b[38;5;241m*\u001b[39m\u001b[38;5;241m*\u001b[39mkwargs)\n",
      "File \u001b[1;32m~\\AppData\\Local\\Programs\\Python\\Python310\\lib\\site-packages\\whisper\\decoding.py:737\u001b[0m, in \u001b[0;36mDecodingTask.run\u001b[1;34m(self, mel)\u001b[0m\n\u001b[0;32m    734\u001b[0m tokens \u001b[38;5;241m=\u001b[39m tokens\u001b[38;5;241m.\u001b[39mrepeat_interleave(\u001b[38;5;28mself\u001b[39m\u001b[38;5;241m.\u001b[39mn_group, dim\u001b[38;5;241m=\u001b[39m\u001b[38;5;241m0\u001b[39m)\u001b[38;5;241m.\u001b[39mto(audio_features\u001b[38;5;241m.\u001b[39mdevice)\n\u001b[0;32m    736\u001b[0m \u001b[38;5;66;03m# call the main sampling loop\u001b[39;00m\n\u001b[1;32m--> 737\u001b[0m tokens, sum_logprobs, no_speech_probs \u001b[38;5;241m=\u001b[39m \u001b[38;5;28;43mself\u001b[39;49m\u001b[38;5;241;43m.\u001b[39;49m\u001b[43m_main_loop\u001b[49m\u001b[43m(\u001b[49m\u001b[43maudio_features\u001b[49m\u001b[43m,\u001b[49m\u001b[43m \u001b[49m\u001b[43mtokens\u001b[49m\u001b[43m)\u001b[49m\n\u001b[0;32m    739\u001b[0m \u001b[38;5;66;03m# reshape the tensors to have (n_audio, n_group) as the first two dimensions\u001b[39;00m\n\u001b[0;32m    740\u001b[0m audio_features \u001b[38;5;241m=\u001b[39m audio_features[:: \u001b[38;5;28mself\u001b[39m\u001b[38;5;241m.\u001b[39mn_group]\n",
      "File \u001b[1;32m~\\AppData\\Local\\Programs\\Python\\Python310\\lib\\site-packages\\whisper\\decoding.py:687\u001b[0m, in \u001b[0;36mDecodingTask._main_loop\u001b[1;34m(self, audio_features, tokens)\u001b[0m\n\u001b[0;32m    685\u001b[0m \u001b[38;5;28;01mtry\u001b[39;00m:\n\u001b[0;32m    686\u001b[0m     \u001b[38;5;28;01mfor\u001b[39;00m i \u001b[38;5;129;01min\u001b[39;00m \u001b[38;5;28mrange\u001b[39m(\u001b[38;5;28mself\u001b[39m\u001b[38;5;241m.\u001b[39msample_len):\n\u001b[1;32m--> 687\u001b[0m         logits \u001b[38;5;241m=\u001b[39m \u001b[38;5;28;43mself\u001b[39;49m\u001b[38;5;241;43m.\u001b[39;49m\u001b[43minference\u001b[49m\u001b[38;5;241;43m.\u001b[39;49m\u001b[43mlogits\u001b[49m\u001b[43m(\u001b[49m\u001b[43mtokens\u001b[49m\u001b[43m,\u001b[49m\u001b[43m \u001b[49m\u001b[43maudio_features\u001b[49m\u001b[43m)\u001b[49m\n\u001b[0;32m    689\u001b[0m         \u001b[38;5;28;01mif\u001b[39;00m (\n\u001b[0;32m    690\u001b[0m             i \u001b[38;5;241m==\u001b[39m \u001b[38;5;241m0\u001b[39m \u001b[38;5;129;01mand\u001b[39;00m \u001b[38;5;28mself\u001b[39m\u001b[38;5;241m.\u001b[39mtokenizer\u001b[38;5;241m.\u001b[39mno_speech \u001b[38;5;129;01mis\u001b[39;00m \u001b[38;5;129;01mnot\u001b[39;00m \u001b[38;5;28;01mNone\u001b[39;00m\n\u001b[0;32m    691\u001b[0m         ):  \u001b[38;5;66;03m# save no_speech_probs\u001b[39;00m\n\u001b[0;32m    692\u001b[0m             probs_at_sot \u001b[38;5;241m=\u001b[39m logits[:, \u001b[38;5;28mself\u001b[39m\u001b[38;5;241m.\u001b[39msot_index]\u001b[38;5;241m.\u001b[39mfloat()\u001b[38;5;241m.\u001b[39msoftmax(dim\u001b[38;5;241m=\u001b[39m\u001b[38;5;241m-\u001b[39m\u001b[38;5;241m1\u001b[39m)\n",
      "File \u001b[1;32m~\\AppData\\Local\\Programs\\Python\\Python310\\lib\\site-packages\\whisper\\decoding.py:163\u001b[0m, in \u001b[0;36mPyTorchInference.logits\u001b[1;34m(self, tokens, audio_features)\u001b[0m\n\u001b[0;32m    159\u001b[0m \u001b[38;5;28;01mif\u001b[39;00m tokens\u001b[38;5;241m.\u001b[39mshape[\u001b[38;5;241m-\u001b[39m\u001b[38;5;241m1\u001b[39m] \u001b[38;5;241m>\u001b[39m \u001b[38;5;28mself\u001b[39m\u001b[38;5;241m.\u001b[39minitial_token_length:\n\u001b[0;32m    160\u001b[0m     \u001b[38;5;66;03m# only need to use the last token except in the first forward pass\u001b[39;00m\n\u001b[0;32m    161\u001b[0m     tokens \u001b[38;5;241m=\u001b[39m tokens[:, \u001b[38;5;241m-\u001b[39m\u001b[38;5;241m1\u001b[39m:]\n\u001b[1;32m--> 163\u001b[0m \u001b[38;5;28;01mreturn\u001b[39;00m \u001b[38;5;28;43mself\u001b[39;49m\u001b[38;5;241;43m.\u001b[39;49m\u001b[43mmodel\u001b[49m\u001b[38;5;241;43m.\u001b[39;49m\u001b[43mdecoder\u001b[49m\u001b[43m(\u001b[49m\u001b[43mtokens\u001b[49m\u001b[43m,\u001b[49m\u001b[43m \u001b[49m\u001b[43maudio_features\u001b[49m\u001b[43m,\u001b[49m\u001b[43m \u001b[49m\u001b[43mkv_cache\u001b[49m\u001b[38;5;241;43m=\u001b[39;49m\u001b[38;5;28;43mself\u001b[39;49m\u001b[38;5;241;43m.\u001b[39;49m\u001b[43mkv_cache\u001b[49m\u001b[43m)\u001b[49m\n",
      "File \u001b[1;32m~\\AppData\\Local\\Programs\\Python\\Python310\\lib\\site-packages\\torch\\nn\\modules\\module.py:1511\u001b[0m, in \u001b[0;36mModule._wrapped_call_impl\u001b[1;34m(self, *args, **kwargs)\u001b[0m\n\u001b[0;32m   1509\u001b[0m     \u001b[38;5;28;01mreturn\u001b[39;00m \u001b[38;5;28mself\u001b[39m\u001b[38;5;241m.\u001b[39m_compiled_call_impl(\u001b[38;5;241m*\u001b[39margs, \u001b[38;5;241m*\u001b[39m\u001b[38;5;241m*\u001b[39mkwargs)  \u001b[38;5;66;03m# type: ignore[misc]\u001b[39;00m\n\u001b[0;32m   1510\u001b[0m \u001b[38;5;28;01melse\u001b[39;00m:\n\u001b[1;32m-> 1511\u001b[0m     \u001b[38;5;28;01mreturn\u001b[39;00m \u001b[38;5;28mself\u001b[39m\u001b[38;5;241m.\u001b[39m_call_impl(\u001b[38;5;241m*\u001b[39margs, \u001b[38;5;241m*\u001b[39m\u001b[38;5;241m*\u001b[39mkwargs)\n",
      "File \u001b[1;32m~\\AppData\\Local\\Programs\\Python\\Python310\\lib\\site-packages\\torch\\nn\\modules\\module.py:1520\u001b[0m, in \u001b[0;36mModule._call_impl\u001b[1;34m(self, *args, **kwargs)\u001b[0m\n\u001b[0;32m   1515\u001b[0m \u001b[38;5;66;03m# If we don't have any hooks, we want to skip the rest of the logic in\u001b[39;00m\n\u001b[0;32m   1516\u001b[0m \u001b[38;5;66;03m# this function, and just call forward.\u001b[39;00m\n\u001b[0;32m   1517\u001b[0m \u001b[38;5;28;01mif\u001b[39;00m \u001b[38;5;129;01mnot\u001b[39;00m (\u001b[38;5;28mself\u001b[39m\u001b[38;5;241m.\u001b[39m_backward_hooks \u001b[38;5;129;01mor\u001b[39;00m \u001b[38;5;28mself\u001b[39m\u001b[38;5;241m.\u001b[39m_backward_pre_hooks \u001b[38;5;129;01mor\u001b[39;00m \u001b[38;5;28mself\u001b[39m\u001b[38;5;241m.\u001b[39m_forward_hooks \u001b[38;5;129;01mor\u001b[39;00m \u001b[38;5;28mself\u001b[39m\u001b[38;5;241m.\u001b[39m_forward_pre_hooks\n\u001b[0;32m   1518\u001b[0m         \u001b[38;5;129;01mor\u001b[39;00m _global_backward_pre_hooks \u001b[38;5;129;01mor\u001b[39;00m _global_backward_hooks\n\u001b[0;32m   1519\u001b[0m         \u001b[38;5;129;01mor\u001b[39;00m _global_forward_hooks \u001b[38;5;129;01mor\u001b[39;00m _global_forward_pre_hooks):\n\u001b[1;32m-> 1520\u001b[0m     \u001b[38;5;28;01mreturn\u001b[39;00m forward_call(\u001b[38;5;241m*\u001b[39margs, \u001b[38;5;241m*\u001b[39m\u001b[38;5;241m*\u001b[39mkwargs)\n\u001b[0;32m   1522\u001b[0m \u001b[38;5;28;01mtry\u001b[39;00m:\n\u001b[0;32m   1523\u001b[0m     result \u001b[38;5;241m=\u001b[39m \u001b[38;5;28;01mNone\u001b[39;00m\n",
      "File \u001b[1;32m~\\AppData\\Local\\Programs\\Python\\Python310\\lib\\site-packages\\whisper\\model.py:211\u001b[0m, in \u001b[0;36mTextDecoder.forward\u001b[1;34m(self, x, xa, kv_cache)\u001b[0m\n\u001b[0;32m    208\u001b[0m x \u001b[38;5;241m=\u001b[39m x\u001b[38;5;241m.\u001b[39mto(xa\u001b[38;5;241m.\u001b[39mdtype)\n\u001b[0;32m    210\u001b[0m \u001b[38;5;28;01mfor\u001b[39;00m block \u001b[38;5;129;01min\u001b[39;00m \u001b[38;5;28mself\u001b[39m\u001b[38;5;241m.\u001b[39mblocks:\n\u001b[1;32m--> 211\u001b[0m     x \u001b[38;5;241m=\u001b[39m \u001b[43mblock\u001b[49m\u001b[43m(\u001b[49m\u001b[43mx\u001b[49m\u001b[43m,\u001b[49m\u001b[43m \u001b[49m\u001b[43mxa\u001b[49m\u001b[43m,\u001b[49m\u001b[43m \u001b[49m\u001b[43mmask\u001b[49m\u001b[38;5;241;43m=\u001b[39;49m\u001b[38;5;28;43mself\u001b[39;49m\u001b[38;5;241;43m.\u001b[39;49m\u001b[43mmask\u001b[49m\u001b[43m,\u001b[49m\u001b[43m \u001b[49m\u001b[43mkv_cache\u001b[49m\u001b[38;5;241;43m=\u001b[39;49m\u001b[43mkv_cache\u001b[49m\u001b[43m)\u001b[49m\n\u001b[0;32m    213\u001b[0m x \u001b[38;5;241m=\u001b[39m \u001b[38;5;28mself\u001b[39m\u001b[38;5;241m.\u001b[39mln(x)\n\u001b[0;32m    214\u001b[0m logits \u001b[38;5;241m=\u001b[39m (\n\u001b[0;32m    215\u001b[0m     x \u001b[38;5;241m@\u001b[39m torch\u001b[38;5;241m.\u001b[39mtranspose(\u001b[38;5;28mself\u001b[39m\u001b[38;5;241m.\u001b[39mtoken_embedding\u001b[38;5;241m.\u001b[39mweight\u001b[38;5;241m.\u001b[39mto(x\u001b[38;5;241m.\u001b[39mdtype), \u001b[38;5;241m0\u001b[39m, \u001b[38;5;241m1\u001b[39m)\n\u001b[0;32m    216\u001b[0m )\u001b[38;5;241m.\u001b[39mfloat()\n",
      "File \u001b[1;32m~\\AppData\\Local\\Programs\\Python\\Python310\\lib\\site-packages\\torch\\nn\\modules\\module.py:1511\u001b[0m, in \u001b[0;36mModule._wrapped_call_impl\u001b[1;34m(self, *args, **kwargs)\u001b[0m\n\u001b[0;32m   1509\u001b[0m     \u001b[38;5;28;01mreturn\u001b[39;00m \u001b[38;5;28mself\u001b[39m\u001b[38;5;241m.\u001b[39m_compiled_call_impl(\u001b[38;5;241m*\u001b[39margs, \u001b[38;5;241m*\u001b[39m\u001b[38;5;241m*\u001b[39mkwargs)  \u001b[38;5;66;03m# type: ignore[misc]\u001b[39;00m\n\u001b[0;32m   1510\u001b[0m \u001b[38;5;28;01melse\u001b[39;00m:\n\u001b[1;32m-> 1511\u001b[0m     \u001b[38;5;28;01mreturn\u001b[39;00m \u001b[38;5;28mself\u001b[39m\u001b[38;5;241m.\u001b[39m_call_impl(\u001b[38;5;241m*\u001b[39margs, \u001b[38;5;241m*\u001b[39m\u001b[38;5;241m*\u001b[39mkwargs)\n",
      "File \u001b[1;32m~\\AppData\\Local\\Programs\\Python\\Python310\\lib\\site-packages\\torch\\nn\\modules\\module.py:1520\u001b[0m, in \u001b[0;36mModule._call_impl\u001b[1;34m(self, *args, **kwargs)\u001b[0m\n\u001b[0;32m   1515\u001b[0m \u001b[38;5;66;03m# If we don't have any hooks, we want to skip the rest of the logic in\u001b[39;00m\n\u001b[0;32m   1516\u001b[0m \u001b[38;5;66;03m# this function, and just call forward.\u001b[39;00m\n\u001b[0;32m   1517\u001b[0m \u001b[38;5;28;01mif\u001b[39;00m \u001b[38;5;129;01mnot\u001b[39;00m (\u001b[38;5;28mself\u001b[39m\u001b[38;5;241m.\u001b[39m_backward_hooks \u001b[38;5;129;01mor\u001b[39;00m \u001b[38;5;28mself\u001b[39m\u001b[38;5;241m.\u001b[39m_backward_pre_hooks \u001b[38;5;129;01mor\u001b[39;00m \u001b[38;5;28mself\u001b[39m\u001b[38;5;241m.\u001b[39m_forward_hooks \u001b[38;5;129;01mor\u001b[39;00m \u001b[38;5;28mself\u001b[39m\u001b[38;5;241m.\u001b[39m_forward_pre_hooks\n\u001b[0;32m   1518\u001b[0m         \u001b[38;5;129;01mor\u001b[39;00m _global_backward_pre_hooks \u001b[38;5;129;01mor\u001b[39;00m _global_backward_hooks\n\u001b[0;32m   1519\u001b[0m         \u001b[38;5;129;01mor\u001b[39;00m _global_forward_hooks \u001b[38;5;129;01mor\u001b[39;00m _global_forward_pre_hooks):\n\u001b[1;32m-> 1520\u001b[0m     \u001b[38;5;28;01mreturn\u001b[39;00m forward_call(\u001b[38;5;241m*\u001b[39margs, \u001b[38;5;241m*\u001b[39m\u001b[38;5;241m*\u001b[39mkwargs)\n\u001b[0;32m   1522\u001b[0m \u001b[38;5;28;01mtry\u001b[39;00m:\n\u001b[0;32m   1523\u001b[0m     result \u001b[38;5;241m=\u001b[39m \u001b[38;5;28;01mNone\u001b[39;00m\n",
      "File \u001b[1;32m~\\AppData\\Local\\Programs\\Python\\Python310\\lib\\site-packages\\whisper\\model.py:139\u001b[0m, in \u001b[0;36mResidualAttentionBlock.forward\u001b[1;34m(self, x, xa, mask, kv_cache)\u001b[0m\n\u001b[0;32m    137\u001b[0m \u001b[38;5;28;01mif\u001b[39;00m \u001b[38;5;28mself\u001b[39m\u001b[38;5;241m.\u001b[39mcross_attn:\n\u001b[0;32m    138\u001b[0m     x \u001b[38;5;241m=\u001b[39m x \u001b[38;5;241m+\u001b[39m \u001b[38;5;28mself\u001b[39m\u001b[38;5;241m.\u001b[39mcross_attn(\u001b[38;5;28mself\u001b[39m\u001b[38;5;241m.\u001b[39mcross_attn_ln(x), xa, kv_cache\u001b[38;5;241m=\u001b[39mkv_cache)[\u001b[38;5;241m0\u001b[39m]\n\u001b[1;32m--> 139\u001b[0m x \u001b[38;5;241m=\u001b[39m x \u001b[38;5;241m+\u001b[39m \u001b[38;5;28;43mself\u001b[39;49m\u001b[38;5;241;43m.\u001b[39;49m\u001b[43mmlp\u001b[49m\u001b[43m(\u001b[49m\u001b[38;5;28;43mself\u001b[39;49m\u001b[38;5;241;43m.\u001b[39;49m\u001b[43mmlp_ln\u001b[49m\u001b[43m(\u001b[49m\u001b[43mx\u001b[49m\u001b[43m)\u001b[49m\u001b[43m)\u001b[49m\n\u001b[0;32m    140\u001b[0m \u001b[38;5;28;01mreturn\u001b[39;00m x\n",
      "File \u001b[1;32m~\\AppData\\Local\\Programs\\Python\\Python310\\lib\\site-packages\\torch\\nn\\modules\\module.py:1511\u001b[0m, in \u001b[0;36mModule._wrapped_call_impl\u001b[1;34m(self, *args, **kwargs)\u001b[0m\n\u001b[0;32m   1509\u001b[0m     \u001b[38;5;28;01mreturn\u001b[39;00m \u001b[38;5;28mself\u001b[39m\u001b[38;5;241m.\u001b[39m_compiled_call_impl(\u001b[38;5;241m*\u001b[39margs, \u001b[38;5;241m*\u001b[39m\u001b[38;5;241m*\u001b[39mkwargs)  \u001b[38;5;66;03m# type: ignore[misc]\u001b[39;00m\n\u001b[0;32m   1510\u001b[0m \u001b[38;5;28;01melse\u001b[39;00m:\n\u001b[1;32m-> 1511\u001b[0m     \u001b[38;5;28;01mreturn\u001b[39;00m \u001b[38;5;28mself\u001b[39m\u001b[38;5;241m.\u001b[39m_call_impl(\u001b[38;5;241m*\u001b[39margs, \u001b[38;5;241m*\u001b[39m\u001b[38;5;241m*\u001b[39mkwargs)\n",
      "File \u001b[1;32m~\\AppData\\Local\\Programs\\Python\\Python310\\lib\\site-packages\\torch\\nn\\modules\\module.py:1520\u001b[0m, in \u001b[0;36mModule._call_impl\u001b[1;34m(self, *args, **kwargs)\u001b[0m\n\u001b[0;32m   1515\u001b[0m \u001b[38;5;66;03m# If we don't have any hooks, we want to skip the rest of the logic in\u001b[39;00m\n\u001b[0;32m   1516\u001b[0m \u001b[38;5;66;03m# this function, and just call forward.\u001b[39;00m\n\u001b[0;32m   1517\u001b[0m \u001b[38;5;28;01mif\u001b[39;00m \u001b[38;5;129;01mnot\u001b[39;00m (\u001b[38;5;28mself\u001b[39m\u001b[38;5;241m.\u001b[39m_backward_hooks \u001b[38;5;129;01mor\u001b[39;00m \u001b[38;5;28mself\u001b[39m\u001b[38;5;241m.\u001b[39m_backward_pre_hooks \u001b[38;5;129;01mor\u001b[39;00m \u001b[38;5;28mself\u001b[39m\u001b[38;5;241m.\u001b[39m_forward_hooks \u001b[38;5;129;01mor\u001b[39;00m \u001b[38;5;28mself\u001b[39m\u001b[38;5;241m.\u001b[39m_forward_pre_hooks\n\u001b[0;32m   1518\u001b[0m         \u001b[38;5;129;01mor\u001b[39;00m _global_backward_pre_hooks \u001b[38;5;129;01mor\u001b[39;00m _global_backward_hooks\n\u001b[0;32m   1519\u001b[0m         \u001b[38;5;129;01mor\u001b[39;00m _global_forward_hooks \u001b[38;5;129;01mor\u001b[39;00m _global_forward_pre_hooks):\n\u001b[1;32m-> 1520\u001b[0m     \u001b[38;5;28;01mreturn\u001b[39;00m forward_call(\u001b[38;5;241m*\u001b[39margs, \u001b[38;5;241m*\u001b[39m\u001b[38;5;241m*\u001b[39mkwargs)\n\u001b[0;32m   1522\u001b[0m \u001b[38;5;28;01mtry\u001b[39;00m:\n\u001b[0;32m   1523\u001b[0m     result \u001b[38;5;241m=\u001b[39m \u001b[38;5;28;01mNone\u001b[39;00m\n",
      "File \u001b[1;32m~\\AppData\\Local\\Programs\\Python\\Python310\\lib\\site-packages\\torch\\nn\\modules\\container.py:217\u001b[0m, in \u001b[0;36mSequential.forward\u001b[1;34m(self, input)\u001b[0m\n\u001b[0;32m    215\u001b[0m \u001b[38;5;28;01mdef\u001b[39;00m \u001b[38;5;21mforward\u001b[39m(\u001b[38;5;28mself\u001b[39m, \u001b[38;5;28minput\u001b[39m):\n\u001b[0;32m    216\u001b[0m     \u001b[38;5;28;01mfor\u001b[39;00m module \u001b[38;5;129;01min\u001b[39;00m \u001b[38;5;28mself\u001b[39m:\n\u001b[1;32m--> 217\u001b[0m         \u001b[38;5;28minput\u001b[39m \u001b[38;5;241m=\u001b[39m \u001b[43mmodule\u001b[49m\u001b[43m(\u001b[49m\u001b[38;5;28;43minput\u001b[39;49m\u001b[43m)\u001b[49m\n\u001b[0;32m    218\u001b[0m     \u001b[38;5;28;01mreturn\u001b[39;00m \u001b[38;5;28minput\u001b[39m\n",
      "File \u001b[1;32m~\\AppData\\Local\\Programs\\Python\\Python310\\lib\\site-packages\\torch\\nn\\modules\\module.py:1511\u001b[0m, in \u001b[0;36mModule._wrapped_call_impl\u001b[1;34m(self, *args, **kwargs)\u001b[0m\n\u001b[0;32m   1509\u001b[0m     \u001b[38;5;28;01mreturn\u001b[39;00m \u001b[38;5;28mself\u001b[39m\u001b[38;5;241m.\u001b[39m_compiled_call_impl(\u001b[38;5;241m*\u001b[39margs, \u001b[38;5;241m*\u001b[39m\u001b[38;5;241m*\u001b[39mkwargs)  \u001b[38;5;66;03m# type: ignore[misc]\u001b[39;00m\n\u001b[0;32m   1510\u001b[0m \u001b[38;5;28;01melse\u001b[39;00m:\n\u001b[1;32m-> 1511\u001b[0m     \u001b[38;5;28;01mreturn\u001b[39;00m \u001b[38;5;28mself\u001b[39m\u001b[38;5;241m.\u001b[39m_call_impl(\u001b[38;5;241m*\u001b[39margs, \u001b[38;5;241m*\u001b[39m\u001b[38;5;241m*\u001b[39mkwargs)\n",
      "File \u001b[1;32m~\\AppData\\Local\\Programs\\Python\\Python310\\lib\\site-packages\\torch\\nn\\modules\\module.py:1520\u001b[0m, in \u001b[0;36mModule._call_impl\u001b[1;34m(self, *args, **kwargs)\u001b[0m\n\u001b[0;32m   1515\u001b[0m \u001b[38;5;66;03m# If we don't have any hooks, we want to skip the rest of the logic in\u001b[39;00m\n\u001b[0;32m   1516\u001b[0m \u001b[38;5;66;03m# this function, and just call forward.\u001b[39;00m\n\u001b[0;32m   1517\u001b[0m \u001b[38;5;28;01mif\u001b[39;00m \u001b[38;5;129;01mnot\u001b[39;00m (\u001b[38;5;28mself\u001b[39m\u001b[38;5;241m.\u001b[39m_backward_hooks \u001b[38;5;129;01mor\u001b[39;00m \u001b[38;5;28mself\u001b[39m\u001b[38;5;241m.\u001b[39m_backward_pre_hooks \u001b[38;5;129;01mor\u001b[39;00m \u001b[38;5;28mself\u001b[39m\u001b[38;5;241m.\u001b[39m_forward_hooks \u001b[38;5;129;01mor\u001b[39;00m \u001b[38;5;28mself\u001b[39m\u001b[38;5;241m.\u001b[39m_forward_pre_hooks\n\u001b[0;32m   1518\u001b[0m         \u001b[38;5;129;01mor\u001b[39;00m _global_backward_pre_hooks \u001b[38;5;129;01mor\u001b[39;00m _global_backward_hooks\n\u001b[0;32m   1519\u001b[0m         \u001b[38;5;129;01mor\u001b[39;00m _global_forward_hooks \u001b[38;5;129;01mor\u001b[39;00m _global_forward_pre_hooks):\n\u001b[1;32m-> 1520\u001b[0m     \u001b[38;5;28;01mreturn\u001b[39;00m forward_call(\u001b[38;5;241m*\u001b[39margs, \u001b[38;5;241m*\u001b[39m\u001b[38;5;241m*\u001b[39mkwargs)\n\u001b[0;32m   1522\u001b[0m \u001b[38;5;28;01mtry\u001b[39;00m:\n\u001b[0;32m   1523\u001b[0m     result \u001b[38;5;241m=\u001b[39m \u001b[38;5;28;01mNone\u001b[39;00m\n",
      "File \u001b[1;32m~\\AppData\\Local\\Programs\\Python\\Python310\\lib\\site-packages\\torch\\nn\\modules\\activation.py:682\u001b[0m, in \u001b[0;36mGELU.forward\u001b[1;34m(self, input)\u001b[0m\n\u001b[0;32m    681\u001b[0m \u001b[38;5;28;01mdef\u001b[39;00m \u001b[38;5;21mforward\u001b[39m(\u001b[38;5;28mself\u001b[39m, \u001b[38;5;28minput\u001b[39m: Tensor) \u001b[38;5;241m-\u001b[39m\u001b[38;5;241m>\u001b[39m Tensor:\n\u001b[1;32m--> 682\u001b[0m     \u001b[38;5;28;01mreturn\u001b[39;00m \u001b[43mF\u001b[49m\u001b[38;5;241;43m.\u001b[39;49m\u001b[43mgelu\u001b[49m\u001b[43m(\u001b[49m\u001b[38;5;28;43minput\u001b[39;49m\u001b[43m,\u001b[49m\u001b[43m \u001b[49m\u001b[43mapproximate\u001b[49m\u001b[38;5;241;43m=\u001b[39;49m\u001b[38;5;28;43mself\u001b[39;49m\u001b[38;5;241;43m.\u001b[39;49m\u001b[43mapproximate\u001b[49m\u001b[43m)\u001b[49m\n",
      "\u001b[1;31mKeyboardInterrupt\u001b[0m: "
     ]
    }
   ],
   "source": [
    "for audio_id in matched_audio_ids:\n",
    "    # Get file name for the audio ID\n",
    "    file_name = file_names[audio_ids.index(audio_id)]\n",
    "    \n",
    "    # Construct file path for audio file\n",
    "    corrected_file_path = os.path.join(audio_files_dir, file_name)\n",
    "    corrected_file_path = corrected_file_path.replace(\"/Audio/\", \"/\")\n",
    "    \n",
    "    # Transcribe audio file\n",
    "    result = model.transcribe(corrected_file_path)\n",
    "    transcription = result[\"text\"]\n",
    "    \n",
    "    expected_index = result_audio_ids.index(audio_id)\n",
    "    expected_transcription = transcriptions[expected_index]\n",
    "    \n",
    "    # Calculate WER using jiwer\n",
    "    wer_value = jiwer.wer(expected_transcription, transcription)\n",
    "    total_wer += wer_value\n",
    "    \n",
    "    print(f\"Audio ID: {audio_id} - WER: {wer_value:.2f}\")\n",
    "\n",
    "# Calculate average WER\n"
   ]
  },
  {
   "cell_type": "code",
   "execution_count": 46,
   "id": "596ce3c1",
   "metadata": {},
   "outputs": [
    {
     "data": {
      "text/plain": [
       "'के ये दोनो बल्लेबाज दोनो बल्लेबाज हुए आउट एस के के साथ खेले जा रहे अभ्यास मैच में मैच में एस के के साथ खेले जा रहे अभ्यास मैच में'"
      ]
     },
     "execution_count": 46,
     "metadata": {},
     "output_type": "execute_result"
    }
   ],
   "source": [
    "expected_transcription"
   ]
  },
  {
   "cell_type": "code",
   "execution_count": 47,
   "id": "7e638b5c",
   "metadata": {},
   "outputs": [
    {
     "name": "stdout",
     "output_type": "stream",
     "text": [
      "Average WER: 0.20\n"
     ]
    }
   ],
   "source": [
    "\n",
    "average_wer = total_wer / len(matched_audio_ids)\n",
    "print(f\"Average WER: {average_wer:.2f}\")"
   ]
  },
  {
   "cell_type": "code",
   "execution_count": null,
   "id": "e406fa47",
   "metadata": {},
   "outputs": [],
   "source": []
  }
 ],
 "metadata": {
  "kernelspec": {
   "display_name": "Python 3 (ipykernel)",
   "language": "python",
   "name": "python3"
  },
  "language_info": {
   "codemirror_mode": {
    "name": "ipython",
    "version": 3
   },
   "file_extension": ".py",
   "mimetype": "text/x-python",
   "name": "python",
   "nbconvert_exporter": "python",
   "pygments_lexer": "ipython3",
   "version": "3.10.2"
  }
 },
 "nbformat": 4,
 "nbformat_minor": 5
}
